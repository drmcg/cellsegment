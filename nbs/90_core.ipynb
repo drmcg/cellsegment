{
 "cells": [
  {
   "cell_type": "markdown",
   "metadata": {
    "pycharm": {
     "name": "#%% md\n"
    }
   },
   "source": [
    "# Core Functions\n",
    "> Summary description here. "
   ]
  },
  {
   "cell_type": "code",
   "execution_count": 1,
   "metadata": {
    "pycharm": {
     "is_executing": false,
     "name": "#%%\n"
    }
   },
   "outputs": [],
   "source": [
    "#hide\n",
    "# default_exp core\n",
    "from nbdev.showdoc import *"
   ]
  },
  {
   "cell_type": "code",
   "execution_count": 15,
   "metadata": {
    "pycharm": {
     "is_executing": false
    }
   },
   "outputs": [],
   "source": [
    "# export\n",
    "\n",
    "import numpy as np\n",
    "import cv2\n",
    "import matplotlib.pyplot as plt\n",
    "import PIL\n",
    "import os"
   ]
  },
  {
   "cell_type": "code",
   "execution_count": 3,
   "metadata": {
    "pycharm": {
     "is_executing": false
    }
   },
   "outputs": [],
   "source": [
    "# export\n",
    "def progress_bar(i,n):\n",
    "    print(':', end='')\n",
    "    if i % n == 0:\n",
    "        print(' ', i)\n",
    "        "
   ]
  },
  {
   "cell_type": "code",
   "execution_count": 4,
   "metadata": {
    "pycharm": {
     "is_executing": false
    }
   },
   "outputs": [],
   "source": [
    "# export\n",
    "import csv\n",
    "def resize_file(fn, scale=1):\n",
    "    img = PIL.Image.open(fn)\n",
    "    img_w, img_h = img.size\n",
    "    img_w, img_h = int(img_w*scale), int(img_h*scale)\n",
    "    return img.resize((img_w, img_h))\n",
    "        "
   ]
  },
  {
   "cell_type": "code",
   "execution_count": 6,
   "metadata": {
    "pycharm": {
     "is_executing": false,
     "name": "#%%\n"
    }
   },
   "outputs": [],
   "source": [
    "# export\n",
    "def show_img(im, figsize=None, ax=None, alpha=None, label=None, title=None):\n",
    "    if not ax: fig, ax = plt.subplots(figsize=figsize)\n",
    "    ax.imshow(im, alpha=alpha)\n",
    "    ax.set_axis_off()\n",
    "    if label: ax.legend()\n",
    "    if title: ax.set_title(title)\n",
    "    return ax\n",
    "\n",
    "#export\n",
    "def in_ipython():\n",
    "    \"Check if the code is running in the ipython environment (jupyter including)\"\n",
    "    program_name = os.path.basename(os.getenv('_', ''))\n",
    "    if ('jupyter-notebook' in program_name or # jupyter-notebook\n",
    "        'ipython'          in program_name or # ipython\n",
    "        'JPY_PARENT_PID'   in os.environ):    # ipython-notebook\n",
    "        return True\n",
    "    else:\n",
    "        return False\n",
    "\n",
    "IN_IPYTHON = in_ipython()\n",
    "\n",
    "#export\n",
    "def in_colab():\n",
    "    \"Check if the code is running in Google Colaboratory\"\n",
    "    try:\n",
    "        from google import colab\n",
    "        return True\n",
    "    except: return False\n",
    "\n",
    "IN_COLAB = in_colab()\n",
    "\n",
    "#export\n",
    "def in_notebook():\n",
    "    \"Check if the code is running in a jupyter notebook\"\n",
    "    if in_colab(): return True\n",
    "    try:\n",
    "        shell = get_ipython().__class__.__name__\n",
    "        if shell == 'ZMQInteractiveShell': return True   # Jupyter notebook, Spyder or qtconsole\n",
    "        elif shell == 'TerminalInteractiveShell': return False  # Terminal running IPython\n",
    "        else: return False  # Other type (?)\n",
    "    except NameError: return False      # Probably standard Python interpreter\n",
    "\n",
    "IN_NOTEBOOK = in_notebook()\n",
    "\n",
    "#export\n",
    "from pynvml import *\n",
    "def gpu_memory():\n",
    "    'Print memory total, free and used'\n",
    "    nvmlInit()\n",
    "    h = nvmlDeviceGetHandleByIndex(0)\n",
    "    info = nvmlDeviceGetMemoryInfo(h)\n",
    "    print('*** GPU memory ***')\n",
    "    print(f'total    : {info.total}')\n",
    "    print(f'free     : {info.free}')\n",
    "    print(f'used     : {info.used}')"
   ]
  },
  {
   "cell_type": "code",
   "execution_count": 8,
   "outputs": [],
   "source": [
    "# export\n",
    "def colormap_segmentation_labels(N=256):\n",
    "    'create a colour map for  segmentation labels'\n",
    "    def bitget(byteval, idx):\n",
    "        return ((byteval & (1 << idx)) != 0)\n",
    "\n",
    "    cmap = np.zeros((N, 3))\n",
    "    for i in range(0, N):\n",
    "        id = i\n",
    "        r, g, b = 0, 0, 0\n",
    "        for j in range(0, 8):\n",
    "            r = np.bitwise_or(r, (bitget(id, 0) << 7 - j))\n",
    "            g = np.bitwise_or(g, (bitget(id, 1) << 7 - j))\n",
    "            b = np.bitwise_or(b, (bitget(id, 2) << 7 - j))\n",
    "            id = (id >> 3)\n",
    "        cmap[i, 0] = r\n",
    "        cmap[i, 1] = g\n",
    "        cmap[i, 2] = b\n",
    "    # cmap = cmap.astype(np.float32) / 255\n",
    "    cmap = cmap.astype(np.uint8).flatten()\n",
    "    return cmap\n",
    "\n",
    "# export\n",
    "def save_png_p(img:np.ndarray, fn, cmap:str='hot', num_colors=256):\n",
    "    '''\n",
    "    Save an image as an 8 bit png file with a color map\n",
    "    - img: \n",
    "    - fn: filename to save\n",
    "    - cmap: colormap ( use matplotlib cmaps )\n",
    "    - num_colors:  less than 256, for label images set `num_colors` to the number of colors in the `cmap` colormap \n",
    "    '''\n",
    "\n",
    "    assert num_colors > 0 and num_colors <= 256, 'num_colors must be in range 0 to 256'\n",
    "    cm = plt.get_cmap(cmap)\n",
    "    palette = np.ones((256,3),dtype=np.uint8)*128\n",
    "    pal = (cm(np.arange(num_colors))*255).astype(np.uint8)[:,:3]\n",
    "    palette[:num_colors,:] = pal\n",
    "    img = PIL.Image.fromarray((img*255).astype(np.uint8), mode='P')\n",
    "    img.putpalette(palette)\n",
    "    img.save(fn)\n",
    "\n",
    "      "
   ],
   "metadata": {
    "collapsed": false,
    "pycharm": {
     "name": "#%%\n",
     "is_executing": false
    }
   }
  },
  {
   "cell_type": "markdown",
   "source": [
    "> \n",
    ">For an exapmple of available colour maps see\n",
    "<img alt=\"Example colour maps\" width=\"800\" caption=\"Example colour maps\" src=\"images/colormaps_001.png\">"
   ],
   "metadata": {
    "collapsed": false,
    "pycharm": {
     "name": "#%% md\n"
    }
   }
  },
  {
   "cell_type": "markdown",
   "source": [
    "<img alt=\"Example colour maps\" width=\"800\" caption=\"Example colour maps\" src=\"images/colormaps_002.png\">"
   ],
   "metadata": {
    "collapsed": false,
    "pycharm": {
     "name": "#%% md\n"
    }
   }
  },
  {
   "cell_type": "markdown",
   "source": [
    "> Use a Quantative color map for label images and set number to the number of colors in the colormap \n",
    "`save_png_p(img, 'file.png', cmap='tab10', num_colors=10)`"
   ],
   "metadata": {
    "collapsed": false
   }
  },
  {
   "cell_type": "markdown",
   "source": [
    "><img alt=\"Quantative color maps\" width=\"800\" caption=\"Quantative color maps\" src=\"images/colormaps_reference_04.png\">"
   ],
   "metadata": {
    "collapsed": false
   }
  },
  {
   "cell_type": "code",
   "execution_count": 16,
   "outputs": [],
   "source": [
    "img = np.random.rand(10,10)\n",
    "img = cv2.resize(img, dsize=(200, 200), interpolation=cv2.INTER_NEAREST)\n",
    "save_png_p(np.resize(img,(200,200)), 'images/save_png_p_test.png', cmap='hot')"
   ],
   "metadata": {
    "collapsed": false,
    "pycharm": {
     "name": "#%%\n",
     "is_executing": false
    }
   }
  },
  {
   "cell_type": "markdown",
   "source": [
    "<img alt=\"images/save_png_p_test.png\" width=\"400\" caption=\"images/save_png_p_test.png\" src=\"images/save_png_p_test.png\">"
   ],
   "metadata": {
    "collapsed": false
   }
  }
 ],
 "metadata": {
  "kernelspec": {
   "display_name": "Python 3",
   "language": "python",
   "name": "python3"
  },
  "language_info": {
   "codemirror_mode": {
    "name": "ipython",
    "version": 3
   },
   "file_extension": ".py",
   "mimetype": "text/x-python",
   "name": "python",
   "nbconvert_exporter": "python",
   "pygments_lexer": "ipython3",
   "version": "3.6.8"
  },
  "pycharm": {
   "stem_cell": {
    "cell_type": "raw",
    "source": [],
    "metadata": {
     "collapsed": false
    }
   }
  },
  "toc": {
   "base_numbering": 1,
   "nav_menu": {},
   "number_sections": true,
   "sideBar": true,
   "skip_h1_title": false,
   "title_cell": "Table of Contents",
   "title_sidebar": "Contents",
   "toc_cell": false,
   "toc_position": {},
   "toc_section_display": true,
   "toc_window_display": false
  }
 },
 "nbformat": 4,
 "nbformat_minor": 2
}