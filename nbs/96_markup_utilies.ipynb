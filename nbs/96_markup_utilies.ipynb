{
 "cells": [
  {
   "cell_type": "markdown",
   "metadata": {
    "collapsed": false
   },
   "source": [
    "# Markup utilities  \n",
    "> Functions for marking up label images using a trained model"
   ]
  },
  {
   "cell_type": "code",
   "execution_count": 1,
   "metadata": {
    "collapsed": false,
    "pycharm": {
     "is_executing": false,
     "name": "#%%\n"
    }
   },
   "outputs": [],
   "source": [
    "#hide\n",
    "# default_exp markup_utils\n",
    "from nbdev.showdoc import *\n",
    "%reload_ext autoreload\n",
    "%autoreload 2\n",
    "%matplotlib inline"
   ]
  },
  {
   "cell_type": "markdown",
   "metadata": {
    "collapsed": false
   },
   "source": [
    "## Setup environment\n",
    "\n"
   ]
  },
  {
   "cell_type": "markdown",
   "metadata": {
    "collapsed": false
   },
   "source": [
    "### Imports"
   ]
  },
  {
   "cell_type": "code",
   "execution_count": null,
   "outputs": [],
   "source": [
    "# hide\n",
    "# hidden imports\n",
    "from  cellsegment.markup_utils import *   #hide this otherwise recurseive "
   ],
   "metadata": {
    "collapsed": false,
    "pycharm": {
     "name": "#%%\n"
    }
   }
  },
  {
   "cell_type": "code",
   "execution_count": 3,
   "metadata": {
    "collapsed": false,
    "pycharm": {
     "is_executing": false,
     "name": "#%%\n"
    }
   },
   "outputs": [],
   "source": [
    "#export\n",
    "\n",
    "from cellsegment.core import *\n",
    "from cellsegment.inference_utils import *\n",
    "from cellsegment.json_utils import *\n",
    "from cellsegment.dataprep_utils import *\n",
    "from cellsegment.set_directories import *\n",
    "import cv2\n",
    "from skimage.measure import label, regionprops\n",
    "import pandas\n",
    "from fastai.vision import *"
   ]
  },
  {
   "cell_type": "markdown",
   "metadata": {
    "collapsed": false
   },
   "source": [
    "## Define directories\n"
   ]
  },
  {
   "cell_type": "code",
   "execution_count": 4,
   "metadata": {
    "collapsed": false,
    "pycharm": {
     "is_executing": false,
     "name": "#%%\n"
    }
   },
   "outputs": [
    {
     "data": {
      "text/plain": [
       "PosixPath('nbs_test_data/236568 - 10.jpg')"
      ]
     },
     "execution_count": 4,
     "metadata": {},
     "output_type": "execute_result"
    }
   ],
   "source": [
    "img_path = Path('nbs_test_data')\n",
    "mrk_path = Path('nbs_test_data/markup')  \n",
    "mrk_path.mkdir(parents=True, exist_ok=True)\n",
    "fnames = sorted(get_image_files(img_path))\n",
    "fn = fnames[1]\n",
    "fn"
   ]
  },
  {
   "cell_type": "code",
   "execution_count": 5,
   "metadata": {
    "collapsed": false,
    "pycharm": {
     "is_executing": false,
     "name": "#%%\n"
    }
   },
   "outputs": [
    {
     "data": {
      "text/plain": [
       "[PosixPath('nbs_test_data/235443 - 1.jpg'),\n",
       " PosixPath('nbs_test_data/236568 - 10.jpg')]"
      ]
     },
     "execution_count": 5,
     "metadata": {},
     "output_type": "execute_result"
    }
   ],
   "source": [
    "fnames"
   ]
  },
  {
   "cell_type": "code",
   "execution_count": 5,
   "metadata": {
    "collapsed": false,
    "pycharm": {
     "is_executing": false,
     "name": "#%%\n"
    }
   },
   "outputs": [],
   "source": []
  },
  {
   "cell_type": "markdown",
   "metadata": {
    "collapsed": false,
    "pycharm": {
     "name": "#%% md\n"
    }
   },
   "source": [
    "## utilities"
   ]
  },
  {
   "cell_type": "code",
   "execution_count": 6,
   "metadata": {
    "collapsed": false,
    "pycharm": {
     "is_executing": false,
     "name": "#%%\n"
    }
   },
   "outputs": [],
   "source": [
    "# export\n",
    "def padImage_t(img, pad=100):\n",
    "    if pad and pad > 0:\n",
    "        return F.pad(input=img.px, pad=(pad, pad, pad, pad), mode='constant', value=0)\n",
    "    else:\n",
    "        return img\n",
    "\n",
    "def cut_tiles_t(img, TM=4, TN=4, pad=100):\n",
    "    M, N = (img.shape[1]-pad*2)//TM, (img.shape[2]-pad*2)//TN\n",
    "    OM, ON = pad + M//2, pad + N//2\n",
    "    return [Image(img[:,x-OM:x+OM,y-ON:y+ON]) for x in range(pad+M//2,img.shape[1],M) for y in range(pad+N//2,img.shape[2],N)]\n",
    "\n",
    "def lay_tiles_t(tiles, TM=4, TN=4, pad=100):\n",
    "    (_,M,N) = tiles[0].size()\n",
    "    OM, ON = pad + M//2, pad + N//2\n",
    "    for n, tile in enumerate(tiles):\n",
    "        tiles[n] = tile[:,pad:-(pad+1),pad:-(pad+1)]\n",
    "\n",
    "    hstack = [torch.cat(tiles[y:y+TN],dim=2) for y in range(0,TN*TM,TN)]\n",
    "    return torch.cat(hstack,dim=1)\n",
    "\n",
    "def run_prediction(learn, fn, filesavedir=None, tile=False, pad=100):\n",
    "    \"\"\"\n",
    "    run predictions and return dictionary of raw predictions\n",
    "    - learn: learner to use\n",
    "    - fn: filename\n",
    "    - filesavedir: if set will save to this directory\n",
    "    - tile: use tiling or not\n",
    "    - pad: padding factor for tiling\n",
    "    - return rediction tensor\n",
    "    \"\"\"\n",
    "    img = open_image(fn)\n",
    "    if tile:\n",
    "        pad = 100\n",
    "        TM, TN =2, 2\n",
    "        img = padImage_t(img, pad=pad)\n",
    "        tiles = cut_tiles_t(img, TM=TM, TN=TN, pad=pad)\n",
    "        outputs = [learn.predict(im)[2] for im in tiles]\n",
    "        raw_pred = lay_tiles_t(outputs, TM=TM, TN=TN, pad=pad)\n",
    "    else:\n",
    "        if img.shape[1]%2 == 1:   # make odd dimension make even for unet\n",
    "           img.px = img.px[:,1:,:]\n",
    "        if img.shape[2]%2 == 1:   # make odd dimension make even for unet\n",
    "           img.px = img.px[:,:,1:]\n",
    "        _,_,raw_pred = learn.predict(img)\n",
    "\n",
    "    preds = {c[0]:raw_pred[i,:,:] for i,c in enumerate(CLASS_LABELS.items())}\n",
    "    if filesavedir:\n",
    "        for cls,raw_pred in preds.items():\n",
    "            save_png_p(to_np(raw_pred), f'{filesavedir}/{fn.stem}-{cls}.png')\n",
    "\n",
    "    return preds"
   ]
  },
  {
   "cell_type": "code",
   "execution_count": 7,
   "metadata": {
    "collapsed": false,
    "pycharm": {
     "is_executing": false,
     "name": "#%%\n"
    }
   },
   "outputs": [
    {
     "name": "stdout",
     "output_type": "stream",
     "text": [
      "Class Labels\n"
     ]
    },
    {
     "data": {
      "text/plain": [
       "{'Background': {'Code': '0', 'Fill': (0, 0, 0, 127)},\n",
       " 'Liver Fluke': {'Code': '11', 'Fill': (255, 0, 0, 127)},\n",
       " 'Rumen Fluke': {'Code': '40', 'Fill': (0, 255, 0, 127)},\n",
       " 'Other': {'Code': '255', 'Fill': (0, 0, 255, 127)}}"
      ]
     },
     "execution_count": 7,
     "metadata": {},
     "output_type": "execute_result"
    }
   ],
   "source": [
    "print(\"Class Labels\")\n",
    "CLASS_LABELS"
   ]
  },
  {
   "cell_type": "code",
   "execution_count": 8,
   "metadata": {
    "collapsed": false,
    "pycharm": {
     "is_executing": false,
     "name": "#%%\n"
    }
   },
   "outputs": [],
   "source": [
    "# export\n",
    "def find_prediction_blobs( cls, img,  min_conf=0.1, min_area=100):\n",
    "    'find prediction blobs, filter by confidence and area'\n",
    "    SCALE = 100\n",
    "    min_conf *= SCALE\n",
    "\n",
    "    img = (img * (SCALE/img.max())).astype(np.int)\n",
    "    img[img<min_conf] = 0\n",
    "    predictions = []\n",
    "    label_image = label(img > min_conf)\n",
    "\n",
    "    #         img = np.array(img) # helped with a cv error?\n",
    "    regions = regionprops(label_image, img, cache=True)\n",
    "    for region in regions:\n",
    "        if region.area > min_area:\n",
    "            cx = int(region.centroid[1])\n",
    "            cy = int(region.centroid[0])\n",
    "            predictions.append({\"label\": cls, \"point\": [cx,cy], \"probability\": region.max_intensity.round(2)})\n",
    "\n",
    "    return predictions, img, regions"
   ]
  },
  {
   "cell_type": "markdown",
   "metadata": {
    "collapsed": false
   },
   "source": [
    "### Test find_prediction_blobs( cls, img,  min_conf=0.1, min_area=100)"
   ]
  },
  {
   "cell_type": "code",
   "execution_count": 9,
   "metadata": {
    "collapsed": false,
    "pycharm": {
     "is_executing": false,
     "name": "#%%\n"
    }
   },
   "outputs": [],
   "source": [
    " find_prediction_blobs( cls, img,  min_conf=0.1, min_area=100)"
   ]
  },
  {
   "cell_type": "code",
   "execution_count": null,
   "metadata": {
    "collapsed": false,
    "pycharm": {
     "name": "#%%\n"
    }
   },
   "outputs": [],
   "source": [
    "# export\n",
    "def annotate_json(jdata, classes, annotations):\n",
    "    'Annotate the json file with predictions'\n",
    "    def add_anno(data, item):\n",
    "        r = 2  # this is just used as a center postion\n",
    "        cx,cy = item['point']\n",
    "        pnt_list = [[cx-r,cy-r], [cx+r,cy+r]]\n",
    "\n",
    "        probability = str(item['probability']) if 'probability' in item else str(0)\n",
    "\n",
    "        try:\n",
    "            it = CLASS_LABELS[item['label']]\n",
    "            line_color = it['Fill']\n",
    "            data['shapes'].append({\n",
    "                    \"label\": item['label'],\"line_color\": line_color, \"fill_color\": None,\n",
    "                    \"points\": pnt_list, \"shape_type\": \"rectangle\", 'probability': probability\n",
    "                })\n",
    "        except:\n",
    "            print(\"Error in parsing CLASS_LABELS\")\n",
    "\n",
    "    def add_annotations(data, annotations):\n",
    "        for item in annotations:\n",
    "            add_anno(data, item)\n",
    "\n",
    "    def del_circle_annotations(data):\n",
    "        to_del = [s for s,sh in enumerate(data['shapes']) if sh['shape_type']=='circle']\n",
    "        if len(to_del) > 0:\n",
    "            print(f'Deleting {len(to_del)} circle annotations')\n",
    "        for i in sorted(to_del, reverse=True):\n",
    "            del data['shapes'][i]\n",
    "\n",
    "    # data = json.load(open(fn))\n",
    "    # del_circle_annotations(data)\n",
    "    add_annotations(jdata, annotations)\n",
    "    return jdata"
   ]
  },
  {
   "cell_type": "code",
   "execution_count": 10,
   "metadata": {
    "collapsed": false,
    "pycharm": {
     "is_executing": false,
     "name": "#%%\n"
    }
   },
   "outputs": [],
   "source": [
    "# export\n",
    "def calc_probs(raw_pred:tensor)->list:\n",
    "    \"\"\"\n",
    "    Calculate the probabilities from a raw prediction  `raw_pred`\n",
    "    by finding the average value of all the pixels within a region\n",
    "    This assumes that there is only one cell in the image\n",
    "    - `raw_pred`: the raw predictions from the learner\n",
    "    - `return`:  list of probabilities\n",
    "    \"\"\"\n",
    "    def __get_bool_mask(o):\n",
    "        min_conf = 0.5\n",
    "        arr = o[0, :, :].numpy()\n",
    "        bgnd = get_region_props(o, 0, min_conf)\n",
    "        if len(bgnd) > 0:\n",
    "            mask = np.zeros((arr.shape), dtype=bool)\n",
    "            AAcoords = bgnd[0][\"coords\"]\n",
    "            mask[tuple(AAcoords.T.tolist())] = True\n",
    "        else:\n",
    "            mask = None\n",
    "        return mask\n",
    "\n",
    "    mask = __get_bool_mask(raw_pred)\n",
    "    if mask is not None:\n",
    "        p = [None] * raw_pred.shape[0]\n",
    "        for i in range(raw_pred.shape[0]):\n",
    "            p[i] = raw_pred[i, :, :].numpy()[mask].mean().round(2)\n",
    "    else:\n",
    "        p = []\n",
    "    return p"
   ]
  },
  {
   "cell_type": "code",
   "execution_count": 11,
   "metadata": {
    "collapsed": false,
    "pycharm": {
     "is_executing": false,
     "name": "#%%\n"
    }
   },
   "outputs": [],
   "source": [
    "# export\n",
    "def draw_labels_cv(img, json, radius=20):\n",
    "    font = cv2.FONT_HERSHEY_SIMPLEX\n",
    "    for s, sh in enumerate(json['shapes']):\n",
    "\n",
    "        fill = sh[\"line_color\"]\n",
    "        draw = sh['shape_type']\n",
    "        probability = str(sh['probability']) if 'probability' in sh else ''\n",
    "\n",
    "        xy = np.asarray(sh[\"points\"])\n",
    "        ave = np.mean(xy,axis=0)\n",
    "\n",
    "        cx = int(ave[0])\n",
    "        cy = int(ave[1])\n",
    "\n",
    "        if draw == 'circle':\n",
    "            cv2.circle(img, (cx, cy), radius, fill, 2)\n",
    "            cv2.circle(img, (cx, cy), radius, fill, 2)\n",
    "            cv2.putText(img,probability,(int(cx-radius), cy-radius), font, 1, fill, 2, cv2.LINE_AA)\n",
    "\n",
    "        elif draw == 'rectangle':\n",
    "            cv2.rectangle(img, (cx - radius, cy - radius), (cx + radius, cy + radius), fill, 2)\n",
    "            cv2.putText(img,probability,(int(cx-radius), cy-radius), font, 1, fill, 2, cv2.LINE_AA)\n",
    "\n",
    "    return img"
   ]
  },
  {
   "cell_type": "code",
   "execution_count": 12,
   "metadata": {
    "collapsed": false,
    "pycharm": {
     "is_executing": false,
     "name": "#%%\n"
    }
   },
   "outputs": [],
   "source": [
    "# export\n",
    "\n",
    "def markup_one_image(fn:str, preds:dict):\n",
    "    src_img = np.asarray(PIL.Image.open(fn))\n",
    "    # find blobs in png            mrk_img, jdata = self.markup_image(img)\n",
    "    # preds.items()[1]\n",
    "    pred_list = []\n",
    "    for cls, img in preds.items():\n",
    "        if cls != 'Background':\n",
    "            # print(f'Processing {cls}')\n",
    "            prd, _, _ = find_prediction_blobs(cls, to_np(img))\n",
    "            pred_list += prd\n",
    "\n",
    "    jdata = createjson(fn=fn.name, offset=0)\n",
    "    jdata= annotate_json(jdata, CLASS_LABELS, pred_list)\n",
    "    # print(pred_list)\n",
    "    # print(prettyjson(jdata))\n",
    "    # with open(f'{mrk_path}/{fn.stem}.json', 'w') as outfile:\n",
    "    #     json.dump(jdata, outfile, ensure_ascii=False, indent=4)\n",
    "    # mark up jpg\n",
    "    mrk_img = np.asarray(PIL.Image.open(fn))\n",
    "    mrk_img = draw_labels_cv(mrk_img, jdata, radius=50)\n",
    "    return mrk_img, pred_list, jdata\n",
    "    # # PIL.Image.fromarray(mrk_img.astype(np.uint8)).save(f'{mrk_path}/{fn.stem}.jpg', quality=90)"
   ]
  }
 ],
 "metadata": {
  "kernelspec": {
   "display_name": "Python 3",
   "language": "python",
   "name": "python3"
  },
  "language_info": {
   "codemirror_mode": {
    "name": "ipython",
    "version": 2
   },
   "file_extension": ".py",
   "mimetype": "text/x-python",
   "name": "python",
   "nbconvert_exporter": "python",
   "pygments_lexer": "ipython2",
   "version": "2.7.6"
  },
  "pycharm": {
   "stem_cell": {
    "cell_type": "raw",
    "source": [],
    "metadata": {
     "collapsed": false
    }
   }
  }
 },
 "nbformat": 4,
 "nbformat_minor": 0
}