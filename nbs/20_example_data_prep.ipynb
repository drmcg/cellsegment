{
 "cells": [
  {
   "cell_type": "markdown",
   "metadata": {},
   "source": [
    "# Example Data Prep (M100 Fluke)\n",
    "> Example of preparing image set for training\n",
    "> This may involve resizing to a common resolution and size so that the tiling operations will be consistant.\n",
    "> Each image file is marked up with egg centers identified in the csv file. We process these csv files to make JSON files in the same format as was in the labelme project [labelme]("
   ]
  },
  {
   "cell_type": "code",
   "execution_count": 8,
   "metadata": {
    "pycharm": {
     "is_executing": false,
     "name": "#%%\n"
    }
   },
   "outputs": [],
   "source": [
    "#hide\n",
    "from nbdev.showdoc import *\n",
    "%reload_ext autoreload\n",
    "%autoreload 2\n",
    "%matplotlib inline"
   ]
  },
  {
   "cell_type": "markdown",
   "metadata": {},
   "source": [
    "## Imports"
   ]
  },
  {
   "cell_type": "code",
   "execution_count": 9,
   "metadata": {
    "pycharm": {
     "is_executing": false
    }
   },
   "outputs": [],
   "source": [
    "from  cellsegment.core import *\n",
    "from  cellsegment.dataprep_utils import *\n",
    "from  cellsegment.json_utils import *\n",
    "from cellsegment.set_directories import *\n",
    "import pandas\n",
    "import numpy as np\n",
    "from fastai.vision import *"
   ]
  },
  {
   "cell_type": "markdown",
   "metadata": {},
   "source": [
    "## Define directories"
   ]
  },
  {
   "cell_type": "code",
   "execution_count": 10,
   "metadata": {
    "pycharm": {
     "is_executing": false,
     "name": "#%%\n"
    },
    "scrolled": true
   },
   "outputs": [
    {
     "name": "stdout",
     "text": [
      "None\n  basepath        :  ../testdata_2        \n  crop            :  ../testdata_2/Crop-200 \n  cropLabel       :  ../testdata_2/Crop-200/Label \n  cropTest        :  ../testdata_2/Crop-200/Test \n  cropTrain       :  ../testdata_2/Crop-200/Train \n  cropValidTxtFile:  ../testdata_2/Crop-200/valid.txt \n  label           :  ../testdata_2/Fullsize/Label \n  model           :  ../testdata_2/models/ \n  originImages    :  ../testdata_2/Original \n  sizeCsvFile     :  ../testdata_2/file_size.csv \n  test            :  ../testdata_2/Fullsize/Test \n  train           :  ../testdata_2/Fullsize/Train \n  validTxtFile    :  ../testdata_2/Fullsize/valid.txt \n\n"
     ],
     "output_type": "stream"
    }
   ],
   "source": [
    "dirs = Dirs('../testdata_2')\n",
    "print(dirs)"
   ]
  },
  {
   "cell_type": "markdown",
   "source": [
    "## get stats on images"
   ],
   "metadata": {
    "collapsed": false
   }
  },
  {
   "cell_type": "code",
   "execution_count": 11,
   "outputs": [
    {
     "name": "stdout",
     "text": [
      "../testdata_2/Original\nNumber of jpg files = 30\nNumber of json files = 30\nmissing: 0 []\nadded: 0 []\n<function show_directory_stats at 0x7f6ef39800d0>\n"
     ],
     "output_type": "stream"
    }
   ],
   "source": [
    "show_directory_stats(dirs.originImages)\n",
    "print(show_directory_stats)"
   ],
   "metadata": {
    "collapsed": false,
    "pycharm": {
     "name": "#%%\n",
     "is_executing": false
    }
   }
  },
  {
   "cell_type": "markdown",
   "metadata": {},
   "source": [
    "> TODO Change this ....\n",
    "> Dataset consists of legacy images and micro-i images\n",
    "> Structure  \n",
    "> Split into 70% Train, 15% Val, 15% Test  :  taken randomly for the 354 images.  \n",
    "    - Original (jpg+csv+json)  [354 jpg; 354 csv; 354 json; Total = 1062]  \n",
    "    - Fullsize    (random split into 70% Train, 15% Val, 15% Test)  \n",
    "        - Train\n",
    "            - (354 jpg + 354 json)\n",
    "        - Label\n",
    "            - (354 png)\n",
    "    - Crop-200\n",
    "        - Error\n",
    "            - nil\n",
    "        - Train\n",
    "            - (443 jpg)\n",
    "        - Labels\n",
    "            - (526 png)\n",
    "        - Test\n",
    "            - (83 jpg)\n",
    "        - valid.txt \n",
    "            - 73 file names\n",
    "\n",
    "\n"
   ]
  },
  {
   "cell_type": "code",
   "execution_count": 12,
   "metadata": {
    "pycharm": {
     "is_executing": false
    },
    "scrolled": true
   },
   "outputs": [
    {
     "name": "stdout",
     "text": [
      "Show original image sizes\nFilename ../testdata_2/file_size.csv already exists\n",
      "              Name  Width  Height\n0   236568 - 1.jpg    826     786\n1  236568 - 10.jpg    799     782\n2  236568 - 11.jpg    820     805\n3  236568 - 12.jpg    807     796\n4  236568 - 13.jpg    812     810\n              Name  Width  Height\n25  236569 - 5.jpg    766     740\n26  236569 - 6.jpg    762     740\n27  236569 - 7.jpg    811     811\n28  236569 - 8.jpg    868     795\n29  236569 - 9.jpg    755     739\n"
     ],
     "output_type": "stream"
    }
   ],
   "source": [
    "print(\"Show original image sizes\")\n",
    "\n",
    "height = 800\n",
    "fnames = sorted(get_image_files(dirs.originImages))\n",
    "\n",
    "list_filedata = [None] * len(fnames)\n",
    "for i,fn in enumerate(fnames):\n",
    "    img = PIL.Image.open(fn)\n",
    "    img_w, img_h = img.size\n",
    "    scale = float(height) / img_h\n",
    "    list_filedata[i] = {'Name':fn.name, 'Width':img_w, 'Height':img_h, 'Scale':scale}\n",
    "\n",
    "df = pandas.DataFrame(list_filedata)\n",
    "df = df[['Name', 'Width', 'Height']]\n",
    "# print(df)\n",
    "\n",
    "savefn = Path(dirs.sizeCsvFile)\n",
    "if not savefn.exists():\n",
    "    print(f'Saving {savefn}')\n",
    "    df.to_csv(savefn)\n",
    "else:\n",
    "    print(f'Filename {savefn} already exists')\n",
    "print(df.head())\n",
    "  \n",
    "print(df.tail())\n"
   ]
  },
  {
   "cell_type": "markdown",
   "metadata": {},
   "source": [
    "## Optional - Convert directory of CSV files to JSON files"
   ]
  },
  {
   "cell_type": "code",
   "execution_count": 13,
   "metadata": {
    "pycharm": {
     "is_executing": false,
     "name": "#%%\n"
    }
   },
   "outputs": [
    {
     "name": "stdout",
     "text": [
      "Converting an entire directory of Techion CSV files to JSON files\nNumber of csv & jpg files to convert 0 30\nsrc_path ../testdata_2/Original\ndest_path ../testdata_2/Original\n"
     ],
     "output_type": "stream"
    }
   ],
   "source": [
    "csv_to_json_dir(dirs.originImages, dirs.originImages, number_files='all')     "
   ]
  },
  {
   "cell_type": "markdown",
   "metadata": {},
   "source": [
    "## Resize jpg & json files "
   ]
  },
  {
   "cell_type": "code",
   "execution_count": 14,
   "metadata": {
    "pycharm": {
     "is_executing": false
    }
   },
   "outputs": [
    {
     "name": "stdout",
     "text": [
      "Number of image files: 30, Number to resize: all\n"
     ],
     "output_type": "stream"
    }
   ],
   "source": [
    "resize_dir(dirs.sizeCsvFile, dirs.originImages, dirs.train, number_files='all', height=800)"
   ]
  },
  {
   "cell_type": "code",
   "execution_count": 15,
   "metadata": {
    "pycharm": {
     "is_executing": false
    }
   },
   "outputs": [
    {
     "name": "stdout",
     "text": [
      "Number of JSON files: 30, Number to resize: all\n::::::::::::::::::::::::::::::\n30  json files processed\n"
     ],
     "output_type": "stream"
    },
    {
     "data": {
      "text/plain": "30"
     },
     "metadata": {},
     "output_type": "execute_result",
     "execution_count": 15
    }
   ],
   "source": [
    "resize_json_dir(dirs.sizeCsvFile, dirs.originImages, dirs.train, number_files='all', height=800)"
   ]
  },
  {
   "cell_type": "markdown",
   "metadata": {},
   "source": [
    "## Create label png images \n",
    "Labels centers are from Json files,  store png in dest directory\")"
   ]
  },
  {
   "cell_type": "code",
   "execution_count": 1,
   "metadata": {
    "pycharm": {
     "is_executing": false
    },
    "scrolled": true
   },
   "outputs": [
    {
     "traceback": [
      "\u001b[0;31m---------------------------------------------------------------------------\u001b[0m",
      "\u001b[0;31mNameError\u001b[0m                                 Traceback (most recent call last)",
      "\u001b[0;32m<ipython-input-1-ddb9ac633057>\u001b[0m in \u001b[0;36m<module>\u001b[0;34m\u001b[0m\n\u001b[0;32m----> 1\u001b[0;31m \u001b[0mcreate_labels_dir\u001b[0m\u001b[0;34m(\u001b[0m\u001b[0mdirs\u001b[0m\u001b[0;34m.\u001b[0m\u001b[0mtrain\u001b[0m\u001b[0;34m,\u001b[0m \u001b[0mdirs\u001b[0m\u001b[0;34m.\u001b[0m\u001b[0mlabel\u001b[0m\u001b[0;34m,\u001b[0m \u001b[0mnumber_files\u001b[0m\u001b[0;34m=\u001b[0m\u001b[0;34m'all'\u001b[0m\u001b[0;34m)\u001b[0m\u001b[0;34m\u001b[0m\u001b[0;34m\u001b[0m\u001b[0m\n\u001b[0m\u001b[1;32m      2\u001b[0m \u001b[0;34m\u001b[0m\u001b[0m\n",
      "\u001b[0;31mNameError\u001b[0m: name 'create_labels_dir' is not defined"
     ],
     "ename": "NameError",
     "evalue": "name 'create_labels_dir' is not defined",
     "output_type": "error"
    }
   ],
   "source": [
    "create_labels_dir(dirs.train, dirs.label, number_files='all')"
   ]
  },
  {
   "cell_type": "markdown",
   "metadata": {},
   "source": [
    "## Split into Train, Val and Test"
   ]
  },
  {
   "cell_type": "code",
   "execution_count": null,
   "metadata": {
    "pycharm": {
     "is_executing": false
    }
   },
   "outputs": [],
   "source": [
    "file_csv = dirs.basepath+'/file_data.csv'\n",
    "fnames = sorted(get_image_files(dirs.train))\n",
    "fnames = [fn.name for fn in fnames]\n",
    "df = pandas.DataFrame(fnames)\n",
    "df.columns = ['Name']\n",
    "df.to_csv(file_csv, index=True)\n",
    "\n",
    "shuffle_csv(file_csv,random_state=23)"
   ]
  },
  {
   "cell_type": "code",
   "execution_count": null,
   "metadata": {
    "pycharm": {
     "is_executing": false
    }
   },
   "outputs": [],
   "source": [
    "#\n",
    "print('\\n Split into train valid and test directories')\n",
    "split_filenames(file_csv, num_train=0.5, num_val=0.25)"
   ]
  },
  {
   "cell_type": "code",
   "execution_count": null,
   "metadata": {
    "pycharm": {
     "is_executing": false
    }
   },
   "outputs": [],
   "source": [
    "#\n",
    "misslist, croplist= crop_img_dir(file_csv, dirs.train, dirs.train, dirs.crop, \n",
    "                                              number_files='all', DEBUG=False)\n",
    "print(f'Num Missed: {len(misslist)}, Num Cropped: {len(croplist)}')"
   ]
  },
  {
   "cell_type": "code",
   "execution_count": null,
   "metadata": {
    "pycharm": {
     "is_executing": false
    }
   },
   "outputs": [],
   "source": [
    "crop_df = pandas.DataFrame(croplist)\n",
    "crop_df = crop_df[['Name','Label', 'Op']]\n",
    "crop_df.to_csv(dirs.crop+'/crop_df.csv')\n",
    "crop_df.tail()"
   ]
  },
  {
   "cell_type": "code",
   "execution_count": null,
   "metadata": {
    "pycharm": {
     "is_executing": false
    }
   },
   "outputs": [],
   "source": [
    "valid_df = crop_df[crop_df.Op=='Valid'].loc[:,'Name']\n",
    "valid_df.to_csv(dirs.crop+'/valid.txt', index=False, header=True)\n",
    "valid_df.head(10)"
   ]
  },
  {
   "cell_type": "code",
   "execution_count": null,
   "metadata": {
    "pycharm": {
     "is_executing": false
    }
   },
   "outputs": [],
   "source": [
    "labmisslist, labcroplist = crop_img_dir(file_csv, dirs.train, dirs.label, dirs.crop, number_files='all')\n",
    "print(f'Num Missed: {len(labmisslist)}, Num Cropped: {len(labcroplist)}')"
   ]
  },
  {
   "cell_type": "markdown",
   "metadata": {},
   "source": [
    "### Save test_data.csv"
   ]
  },
  {
   "cell_type": "code",
   "execution_count": null,
   "metadata": {
    "pycharm": {
     "is_executing": false
    }
   },
   "outputs": [],
   "source": [
    "crop_df = pandas.read_csv(dirs.crop+'/crop_df.csv', index_col=0)\n",
    "crop_df.loc[crop_df.Label == 40,'Label'] = 'Fluke-Rumen'\n",
    "crop_df.loc[crop_df.Label == 11,'Label'] = 'Fluke-Liver'\n",
    "crop_df.to_csv(dirs.crop+'/crop_df.csv')\n",
    "crop_df.tail()"
   ]
  },
  {
   "cell_type": "code",
   "execution_count": null,
   "metadata": {
    "pycharm": {
     "is_executing": false
    }
   },
   "outputs": [],
   "source": [
    "test_df = crop_df[crop_df.Op == 'Test'] \n",
    "test_df.to_csv(dirs.crop+'/test_df.csv', index=False)\n",
    "test_df.tail()"
   ]
  },
  {
   "cell_type": "markdown",
   "metadata": {},
   "source": [
    "### Save label files without color pallet info\n",
    "> otherwise databunch segmentation does not work"
   ]
  },
  {
   "cell_type": "code",
   "execution_count": null,
   "metadata": {
    "pycharm": {
     "is_executing": false
    }
   },
   "outputs": [],
   "source": [
    "fnames =  get_image_files(Path(dirs.crop)/'Label')\n",
    "# fnames = fnames[:3]\n",
    "for fn in fnames:\n",
    "    img = np.asarray(PIL.Image.open(fn))\n",
    "    PIL.Image.fromarray(img.astype(np.uint8)).save(fn, quality=90)\n",
    "\n"
   ]
  },
  {
   "cell_type": "markdown",
   "metadata": {},
   "source": [
    "## Test Create DataBunch"
   ]
  },
  {
   "cell_type": "code",
   "execution_count": null,
   "metadata": {
    "pycharm": {
     "is_executing": false
    }
   },
   "outputs": [],
   "source": [
    "# create data set\n",
    "from fastai.vision import *\n",
    "from fastai.utils.mem import *\n",
    "path_img = dirs.cropTrain\n",
    "path_lbl = dirs.cropLabel\n",
    "\n",
    "codes = np.array(['background', '1', '2', '3']);codes\n",
    "\n",
    "get_label_fn = lambda x: f'{path_lbl}/{x.stem}.png'\n",
    "\n",
    "src = (SegmentationItemList.from_folder(path_img)\n",
    "       .split_by_fname_file('../valid.txt')\n",
    "       .label_from_func(get_label_fn, classes=codes, convert_mode='RGB'))\n",
    "\n",
    "tfms = get_transforms(flip_vert=True, max_rotate=None, max_zoom=1., max_warp=None)\n",
    "\n",
    "bs = 8\n",
    "data = (src.transform(tfms, tfm_y=True)\n",
    "        .databunch(bs=bs)\n",
    "        .normalize(imagenet_stats))"
   ]
  },
  {
   "cell_type": "markdown",
   "metadata": {},
   "source": [
    "## Show example images"
   ]
  },
  {
   "cell_type": "code",
   "execution_count": null,
   "metadata": {
    "pycharm": {
     "is_executing": false
    }
   },
   "outputs": [],
   "source": [
    "data.show_batch(4, ds_type=DatasetType.Train, figsize=(10,10))"
   ]
  },
  {
   "cell_type": "code",
   "execution_count": null,
   "metadata": {
    "pycharm": {
     "is_executing": false
    }
   },
   "outputs": [],
   "source": [
    "def acc_metric1(input, target):\n",
    "    target = target.squeeze(1)\n",
    "    return (input.argmax(dim=1)==target).float().mean()\n",
    "\n",
    "def acc_metric2(input, target):\n",
    "    target = target.squeeze(1)\n",
    "    return (input.argmax(dim=1)[target>0]==target[target>0]).float().mean()\n",
    "  \n",
    "metrics=[acc_metric1, acc_metric2]\n",
    "\n",
    "wd=1e-2\n",
    "learn = unet_learner(data, models.resnet34, metrics=metrics, wd=wd).to_fp16()\n",
    "\n"
   ]
  },
  {
   "cell_type": "markdown",
   "metadata": {
    "pycharm": {
     "is_executing": false,
     "name": "#%% md\n"
    }
   },
   "source": [
    "## run fastai learn"
   ]
  },
  {
   "cell_type": "code",
   "execution_count": null,
   "metadata": {
    "pycharm": {
     "is_executing": false,
     "name": "#%%\n"
    },
    "scrolled": true
   },
   "outputs": [],
   "source": [
    "if torch.cuda.is_available():\n",
    "    # learn.lr_find()\n",
    "    # learn.recorder.plot()\n",
    "    pass\n"
   ]
  },
  {
   "cell_type": "markdown",
   "metadata": {},
   "source": [
    "## All done!"
   ]
  }
 ],
 "metadata": {
  "kernelspec": {
   "display_name": "Python 3",
   "language": "python",
   "name": "python3"
  },
  "language_info": {
   "codemirror_mode": {
    "name": "ipython",
    "version": 3
   },
   "file_extension": ".py",
   "mimetype": "text/x-python",
   "name": "python",
   "nbconvert_exporter": "python",
   "pygments_lexer": "ipython3",
   "version": "3.6.8"
  },
  "pycharm": {
   "stem_cell": {
    "cell_type": "raw",
    "source": [],
    "metadata": {
     "collapsed": false
    }
   }
  },
  "toc": {
   "base_numbering": 1,
   "nav_menu": {},
   "number_sections": true,
   "sideBar": true,
   "skip_h1_title": false,
   "title_cell": "Table of Contents",
   "title_sidebar": "Contents",
   "toc_cell": false,
   "toc_position": {},
   "toc_section_display": true,
   "toc_window_display": false
  }
 },
 "nbformat": 4,
 "nbformat_minor": 1
}