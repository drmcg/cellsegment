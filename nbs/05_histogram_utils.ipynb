{
 "cells": [
  {
   "cell_type": "markdown",
   "source": [
    "# Histogram Utilities\n",
    "> Summary description here"
   ],
   "metadata": {
    "collapsed": false
   }
  },
  {
   "cell_type": "code",
   "execution_count": null,
   "outputs": [],
   "source": [
    "# default_exp histogram_utils"
   ],
   "metadata": {
    "collapsed": false,
    "pycharm": {
     "name": "#%%\n"
    }
   }
  },
  {
   "cell_type": "code",
   "execution_count": null,
   "outputs": [],
   "source": [
    "#hide\n",
    "from cellsegment.core import *\n",
    "from nbdev.showdoc import *\n"
   ],
   "metadata": {
    "collapsed": false,
    "pycharm": {
     "name": "#%%\n"
    }
   }
  },
  {
   "cell_type": "code",
   "execution_count": null,
   "metadata": {},
   "outputs": [],
   "source": [
    "# export\n",
    "import random\n",
    "from cellsegment.core import *\n",
    "from  cellsegment.dataprep import *\n",
    "import json\n",
    "import shutil\n",
    "\n",
    "import pandas\n",
    "from fastai.vision import get_image_files, parallel, partial, PIL, Path, get_files\n",
    "from skimage.filters import threshold_otsu\n",
    "from skimage.color import rgb2gray\n",
    "from skimage.measure import label, regionprops\n",
    "from skimage.morphology import closing, square\n",
    "from skimage.color import label2rgb\n",
    "from skimage.exposure import histogram\n",
    "import numpy as np\n",
    "import matplotlib.pyplot as plt\n",
    "from PIL import Image, ImageDraw\n",
    "import os"
   ]
  },
  {
   "cell_type": "code",
   "execution_count": null,
   "metadata": {},
   "outputs": [],
   "source": [
    "# export\n",
    "def show_histogram(im, figsize=None, ax=None, color=None, rgb=False, scale=None, label=None, title=None):\n",
    "    if not ax: fig, ax = plt.subplots(figsize=figsize)\n",
    "    if scale:\n",
    "        hist, hist_centers = histogram(im*scale[1])\n",
    "        hist = (hist*(scale[0]/hist.max())).astype(int)\n",
    "    else:\n",
    "        hist, hist_centers = histogram(im)\n",
    "\n",
    "    ax.plot(hist_centers, hist, color=color, label=label)\n",
    "    if label: ax.legend()\n",
    "    if title: plt.title(title)\n",
    "    return ax"
   ]
  },
  {
   "cell_type": "code",
   "execution_count": null,
   "metadata": {},
   "outputs": [],
   "source": [
    "# export\n",
    "def plot_color_histogram(img):\n",
    "    colors = (\"b\", \"g\", \"r\")\n",
    "    plt.figure()\n",
    "    plt.title(\"'Flattened' Color Histogram\")\n",
    "    plt.xlabel(\"Bins\")\n",
    "    plt.ylabel(\"# of Pixels\")\n",
    "    features = []\n",
    "    chans = [img[:,:,i]*255 for i in range(3)]\n",
    "    for (chan, color) in zip(chans, colors):\n",
    "        hist, hist_centers = histogram(img)\n",
    "        plt.plot(hist_centers, hist, color = color)\n",
    "        "
   ]
  },
  {
   "cell_type": "code",
   "execution_count": null,
   "metadata": {},
   "outputs": [],
   "source": [
    "# export\n",
    "def plot_well_histograms(img, img_gray, img_bw, well_regionprops):\n",
    "    well_circle_mask = pad(well_regionprops.convex_image, (img.shape[:2]), well_regionprops.bbox[:2])\n",
    "    im = img.copy()\n",
    "    im[~img_bw]=0\n",
    "    hist0, hist_centers = histogram(im)\n",
    "    im = img.copy()\n",
    "    im[~well_circle_mask]=0\n",
    "    hist1, hist_centers = histogram(im)\n",
    "    im = img.copy()\n",
    "    im[img_gray<0.3]  = 0\n",
    "    hist2, hist_centers = histogram(im)\n",
    "    hist0[0] = 0\n",
    "    hist1[0] = 0\n",
    "    hist2[0] = 0\n",
    "    fig, ax = plt.subplots(1, 1, figsize=(5, 5))\n",
    "    ax.plot(hist_centers, hist0, label='thresholded well pixels only')\n",
    "    ax.plot(hist_centers, hist1, label='all well pixels')\n",
    "    ax.plot(hist_centers, hist2, label='entire image')\n",
    "    ax.set_title('histogram of gray values')\n",
    "    ax.legend()\n",
    "        "
   ]
  }
 ],
 "metadata": {
  "kernelspec": {
   "display_name": "Python 3",
   "language": "python",
   "name": "python3"
  },
  "pycharm": {
   "stem_cell": {
    "cell_type": "raw",
    "source": [],
    "metadata": {
     "collapsed": false
    }
   }
  }
 },
 "nbformat": 4,
 "nbformat_minor": 0
}