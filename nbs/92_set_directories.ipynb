{
 "cells": [
  {
   "cell_type": "markdown",
   "metadata": {},
   "source": [
    "# Set Directory Locations\n",
    "> This indicate where all the different processing steps are placed"
   ]
  },
  {
   "cell_type": "code",
   "execution_count": 14,
   "metadata": {
    "pycharm": {
     "is_executing": false,
     "name": "#%%\n"
    }
   },
   "outputs": [],
   "source": [
    "#hide\n",
    "# default_exp set_directories\n",
    "from nbdev.showdoc import *"
   ]
  },
  {
   "cell_type": "code",
   "execution_count": 15,
   "metadata": {
    "collapsed": true,
    "pycharm": {
     "is_executing": false
    }
   },
   "outputs": [],
   "source": [
    "# export\n",
    "\"\"\" \n",
    "Directories for Image preparation training and testing\n",
    "\"\"\"\n",
    "class Dirs:\n",
    "    def __init__(obj, basepath):\n",
    "        obj.basepath = basepath\n",
    "        obj.originImages = basepath + '/Original'\n",
    "        obj.train = basepath + '/Fullsize/Train'\n",
    "        obj.validTxtFile =  basepath + '/Fullsize/valid.txt'\n",
    "        obj.label =  basepath + '/Fullsize/Label'\n",
    "        obj.test =  basepath + '/Fullsize/Test'\n",
    "        obj.crop =  basepath + '/Crop-200'\n",
    "        obj.sizeCsvFile =  basepath + '/file_size.csv'\n",
    "        obj.cropValidTxtFile =  basepath + '/Crop-200/valid.txt'\n",
    "        obj.cropTrain =  basepath + '/Crop-200/Train'\n",
    "        obj.cropLabel =  basepath + '/Crop-200/Label'\n",
    "        obj.cropTest =  basepath + '/Crop-200/Test'\n",
    "        obj.model = basepath + '/models/'    \n",
    "    def __members(obj): \n",
    "        return [attr for attr in dir(dirs) if not callable(getattr(dirs, attr)) and not attr.startswith(\"__\")]\n",
    "    @classmethod\n",
    "    def all(cls):\n",
    "        return [(name, value) for name, value in vars(cls).items() if not callable(name) and not name.startswith(\"__\")]\n",
    "    @classmethod\n",
    "    def all2(cls):\n",
    "        return [name for name, value in vars(cls).items()]\n",
    "    \n",
    "    def __repr__(obj):\n",
    "        __vars = [attr for attr in dir(obj) if not callable(getattr(obj, attr)) and not attr.startswith(\"__\")]\n",
    "        print(__doc__)\n",
    "        \"\"\"Renders variables and their values on the terminal.\"\"\"\n",
    "        max_name_len = max([len(k) for k in __vars])\n",
    "        max_val_len = max([len(str([k])) for k in __vars])\n",
    "        ret = ''\n",
    "        for k in __vars:\n",
    "            ret += f'  {k:<{max_name_len}}:  {getattr(obj,  k):{max_val_len}} \\n'\n",
    "        return ret\n",
    "    # def members(obj): \n",
    "    #     return [attr for attr in dir(dirs) if not callable(getattr(dirs, attr)) and not attr.startswith(\"__\")]\n",
    "    # \n",
    "    # def printdirs(d):\n",
    "    #     ks = [k for k in d if (k[:2] != \"__\" and not callable(globals()[k]))]\n",
    "    #     printVariables(ks)"
   ]
  },
  {
   "cell_type": "markdown",
   "metadata": {
    "pycharm": {
     "name": "#%% md\n"
    }
   },
   "source": [
    "## Example of using directories\n",
    "> Set the base directory as follows"
   ]
  },
  {
   "cell_type": "code",
   "execution_count": 16,
   "metadata": {
    "pycharm": {
     "is_executing": false,
     "name": "#%%\n"
    }
   },
   "outputs": [
    {
     "name": "stdout",
     "output_type": "stream",
     "text": [
      " \n",
      "Directories for Image preparation training and testing\n",
      "\n",
      "  basepath        :  ../testdata/         \n",
      "  crop            :  ../testdata//Crop-200 \n",
      "  cropLabel       :  ../testdata//Crop-200/Label \n",
      "  cropTrain       :  ../testdata//Crop-200/Train \n",
      "  cropValidTxtFile:  ../testdata//Crop-200/valid.txt \n",
      "  label           :  ../testdata//Fullsize/Label \n",
      "  model           :  ../testdata//models/ \n",
      "  originImages    :  ../testdata//Original \n",
      "  sizeCsvFile     :  ../testdata//file_size.csv \n",
      "  test            :  ../testdata//Fullsize/Test \n",
      "  train           :  ../testdata//Fullsize/Train \n",
      "  validTxtFile    :  ../testdata//Fullsize/valid.txt \n",
      "\n"
     ]
    }
   ],
   "source": [
    "dirs = Dirs('../testdata/') \n",
    "print(dirs)"
   ]
  },
  {
   "cell_type": "code",
   "execution_count": 17,
   "metadata": {
    "pycharm": {
     "is_executing": false,
     "name": "#%%\n"
    }
   },
   "outputs": [],
   "source": [
    "# Another option for considration\n",
    "#hide\n",
    "class AwsRegion():\n",
    "    '''\n",
    "    Class to define AWS Regions\n",
    "    '''\n",
    "    OHIO = 'us-east-2'\n",
    "    NORTH_VIRGINIA = 'us-east-1'\n",
    "    NORTH_CALIFORNIA = 'us-west-1'\n",
    "    OREGON = 'us-west-2'\n",
    "    MUMBAI = 'ap-south-1'\n",
    "    SEOUL = 'ap-northeast-2'\n",
    "    SINGAPORE = 'ap-southeast-1'\n",
    "    SYDNEY = 'ap-southeast-2'\n",
    "    TOKYO = 'ap-northeast-1'\n",
    "    FRANKFURT = 'eu-central-1'\n",
    "    IRELAND = 'eu-west-1'\n",
    "    LONDON = 'eu-west-2'\n",
    "    SAO_PAULO = 'sa-east-1'\n",
    "    @classmethod\n",
    "    def all(cls):\n",
    "        return [value for name, value in vars(cls).items() if name.isupper()]\n",
    "# AwsRegion.all()\n",
    "\n",
    "\n"
   ]
  }
 ],
 "metadata": {
  "kernelspec": {
   "display_name": "Python 3",
   "language": "python",
   "name": "python3"
  },
  "language_info": {
   "codemirror_mode": {
    "name": "ipython",
    "version": 3
   },
   "file_extension": ".py",
   "mimetype": "text/x-python",
   "name": "python",
   "nbconvert_exporter": "python",
   "pygments_lexer": "ipython3",
   "version": "3.6.8"
  },
  "pycharm": {
   "stem_cell": {
    "cell_type": "raw",
    "source": [],
    "metadata": {
     "collapsed": false
    }
   }
  },
  "toc": {
   "base_numbering": 1,
   "nav_menu": {},
   "number_sections": true,
   "sideBar": true,
   "skip_h1_title": false,
   "title_cell": "Table of Contents",
   "title_sidebar": "Contents",
   "toc_cell": false,
   "toc_position": {},
   "toc_section_display": true,
   "toc_window_display": false
  }
 },
 "nbformat": 4,
 "nbformat_minor": 1
}